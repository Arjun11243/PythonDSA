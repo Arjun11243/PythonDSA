{
  "nbformat": 4,
  "nbformat_minor": 0,
  "metadata": {
    "colab": {
      "provenance": [],
      "authorship_tag": "ABX9TyMsjrHDyhhjEDJBnt/+3BWI",
      "include_colab_link": true
    },
    "kernelspec": {
      "name": "python3",
      "display_name": "Python 3"
    },
    "language_info": {
      "name": "python"
    }
  },
  "cells": [
    {
      "cell_type": "markdown",
      "metadata": {
        "id": "view-in-github",
        "colab_type": "text"
      },
      "source": [
        "<a href=\"https://colab.research.google.com/github/Arjun11243/PythonDSA/blob/main/DFS.ipynb\" target=\"_parent\"><img src=\"https://colab.research.google.com/assets/colab-badge.svg\" alt=\"Open In Colab\"/></a>"
      ]
    },
    {
      "cell_type": "code",
      "execution_count": 1,
      "metadata": {
        "colab": {
          "base_uri": "https://localhost:8080/"
        },
        "id": "1pQD7v4w8qOJ",
        "outputId": "45f4bd05-bc4c-4911-f76a-d83fe3e0c2bd"
      },
      "outputs": [
        {
          "output_type": "stream",
          "name": "stdout",
          "text": [
            "Enter verticesa b c d e f\n",
            "Enter the edges of a: c\n",
            "Enter the edges of b: c e\n",
            "Enter the edges of c: a b d e\n",
            "Enter the edges of d: c\n",
            "Enter the edges of e: c b\n",
            "Enter the edges of f: \n",
            "The graph\n",
            "{'a': 'c', 'b': 'c e', 'c': 'a b d e', 'd': 'c', 'e': 'c b', 'f': ''}\n",
            "Enter the goal: e\n",
            "Enter the starting point: a\n",
            "Depth First Search\n",
            "['a', 'c', 'e']\n"
          ]
        }
      ],
      "source": [
        "dfs=[]\n",
        "stack=[]\n",
        "graphs={}\n",
        "visited=[]\n",
        "vertices=[]\n",
        "vertices=input(\"Enter vertices\")\n",
        "vertices=vertices.split(\" \")\n",
        "for node in vertices:\n",
        "    temp=input(\"Enter the edges of {}: \".format(node))\n",
        "    graphs[node]=temp\n",
        "print(\"The graph\")\n",
        "print(graphs)\n",
        "goal=input(\"Enter the goal: \")\n",
        "start=input(\"Enter the starting point: \")\n",
        "stack.append(start)\n",
        "while(len(stack)!=0):\n",
        "    vertex=stack.pop()\n",
        "    if(vertex==goal):\n",
        "        dfs.append(vertex)\n",
        "        break\n",
        "    if vertex not in visited:\n",
        "        dfs.append(vertex)\n",
        "        visited.append(vertex)\n",
        "        for i in graphs[vertex]:\n",
        "            if i not in visited:\n",
        "                stack.append(i)\n",
        "print(\"Depth First Search\")\n",
        "print(dfs)"
      ]
    }
  ]
}