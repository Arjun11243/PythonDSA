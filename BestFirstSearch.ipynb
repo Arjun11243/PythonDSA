{
  "nbformat": 4,
  "nbformat_minor": 0,
  "metadata": {
    "colab": {
      "provenance": [],
      "authorship_tag": "ABX9TyNwYl+MNkSeblKvRN2cSIZR",
      "include_colab_link": true
    },
    "kernelspec": {
      "name": "python3",
      "display_name": "Python 3"
    },
    "language_info": {
      "name": "python"
    }
  },
  "cells": [
    {
      "cell_type": "markdown",
      "metadata": {
        "id": "view-in-github",
        "colab_type": "text"
      },
      "source": [
        "<a href=\"https://colab.research.google.com/github/Arjun11243/PythonDSA/blob/main/BestFirstSearch.ipynb\" target=\"_parent\"><img src=\"https://colab.research.google.com/assets/colab-badge.svg\" alt=\"Open In Colab\"/></a>"
      ]
    },
    {
      "cell_type": "code",
      "execution_count": 5,
      "metadata": {
        "colab": {
          "base_uri": "https://localhost:8080/"
        },
        "id": "1pQD7v4w8qOJ",
        "outputId": "57972049-73d0-4819-9a48-40999218e81f"
      },
      "outputs": [
        {
          "output_type": "stream",
          "name": "stdout",
          "text": [
            "Enter Vertices: s a b c d e f g h i\n",
            "Enter the edges of s: a b\n",
            "Enter the pathcost from s to a 3\n",
            "Enter the pathcost from s to b 2\n",
            "Enter the edges of a: c d\n",
            "Enter the pathcost from a to c 4\n",
            "Enter the pathcost from a to d 1\n",
            "Enter the edges of b: e f\n",
            "Enter the pathcost from b to e 3\n",
            "Enter the pathcost from b to f 1\n",
            "Enter the edges of c: \n",
            "Enter the edges of d: \n",
            "Enter the edges of e: h\n",
            "Enter the pathcost from e to h 5\n",
            "Enter the edges of f: i g\n",
            "Enter the pathcost from f to i 2\n",
            "Enter the pathcost from f to g 3\n",
            "Enter the edges of g: \n",
            "Enter the edges of h: \n",
            "Enter the edges of i: \n",
            "{'s': ['b', 2], 'a': ['d', 1], 'b': ['f', 1], 'c': '', 'd': '', 'e': ['h', 5], 'f': ['g', 3], 'g': '', 'h': '', 'i': ''}\n",
            "enter heuristic value of s: 13\n",
            "enter heuristic value of a: 12\n",
            "enter heuristic value of b: 4\n",
            "enter heuristic value of c: 7\n",
            "enter heuristic value of d: 3\n",
            "enter heuristic value of e: 8\n",
            "enter heuristic value of f: 2\n",
            "enter heuristic value of g: 0\n",
            "enter heuristic value of h: 4\n",
            "enter heuristic value of i: 9\n",
            "{'s': '13', 'a': '12', 'b': '4', 'c': '7', 'd': '3', 'e': '8', 'f': '2', 'g': '0', 'h': '4', 'i': '9'}\n",
            "\n",
            "Enter the starting node: s\n",
            "Enter the goal node: g\n",
            "['s', 'b', 'f', 'g']\n",
            "Pathcost:  6\n"
          ]
        }
      ],
      "source": [
        "#Best First Search\n",
        "from queue import PriorityQueue\n",
        "graphs={}\n",
        "heuristic={}\n",
        "bfs=[]\n",
        "visited=[]\n",
        "opens=[]\n",
        "close=[]\n",
        "temp=[]\n",
        "vertices=input(\"Enter Vertices: \")\n",
        "vertices=vertices.split(\" \")\n",
        "for i in vertices:\n",
        "    edges=input(\"Enter the edges of {}: \".format(i))\n",
        "    if len(edges)==0:\n",
        "        graphs[i]=\"\"\n",
        "        continue\n",
        "    edges=edges.split()\n",
        "    temp2=[]\n",
        "    for j in edges:\n",
        "        temp=[]\n",
        "        pathc=int(input(\"Enter the pathcost from {} to {} \".format(i,j)))\n",
        "        temp.append(j)\n",
        "        temp.append(pathc)\n",
        "        #temp2.append(temp)\n",
        "    graphs[i]=temp\n",
        "print(graphs)\n",
        "for i in vertices:\n",
        "    y=input(\"enter heuristic value of {}: \".format(i))\n",
        "    heuristic[i]=y\n",
        "print(heuristic)\n",
        "print()\n",
        "temp3=[]\n",
        "opens=PriorityQueue()\n",
        "start=input(\"Enter the starting node: \")\n",
        "goal=input(\"Enter the goal node: \")\n",
        "pathcost=0\n",
        "opens.put((heuristic[start],start,0))\n",
        "while(opens.empty()== False):\n",
        "    temp3=opens.get()\n",
        "    if temp3[1] not in visited:\n",
        "        close.append(temp3[1])\n",
        "        visited.append(temp3[1])\n",
        "        pathcost=pathcost+int(temp3[2])\n",
        "        if goal==temp3[1]:\n",
        "            break\n",
        "        e=graphs[temp3[1]]\n",
        "        j=0\n",
        "        while(j< len(e)):\n",
        "            opens.put((heuristic[e[j]],e[j],e[j+1]))\n",
        "            j=j+2\n",
        "print(close)\n",
        "print(\"Pathcost: \",pathcost)"
      ]
    },
    {
      "cell_type": "code",
      "source": [],
      "metadata": {
        "id": "IZRkiIs5-xrc"
      },
      "execution_count": null,
      "outputs": []
    }
  ]
}