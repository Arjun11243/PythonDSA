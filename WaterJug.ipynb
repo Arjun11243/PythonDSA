{
  "nbformat": 4,
  "nbformat_minor": 0,
  "metadata": {
    "colab": {
      "provenance": [],
      "authorship_tag": "ABX9TyPgA/CgwT0RR4RAwwB0lzL8",
      "include_colab_link": true
    },
    "kernelspec": {
      "name": "python3",
      "display_name": "Python 3"
    },
    "language_info": {
      "name": "python"
    }
  },
  "cells": [
    {
      "cell_type": "markdown",
      "metadata": {
        "id": "view-in-github",
        "colab_type": "text"
      },
      "source": [
        "<a href=\"https://colab.research.google.com/github/Arjun11243/PythonDSA/blob/main/WaterJug.ipynb\" target=\"_parent\"><img src=\"https://colab.research.google.com/assets/colab-badge.svg\" alt=\"Open In Colab\"/></a>"
      ]
    },
    {
      "cell_type": "code",
      "execution_count": 4,
      "metadata": {
        "colab": {
          "base_uri": "https://localhost:8080/"
        },
        "id": "1pQD7v4w8qOJ",
        "outputId": "e5c4003c-9623-4e9e-9abd-5eae0affcaef"
      },
      "outputs": [
        {
          "output_type": "stream",
          "name": "stdout",
          "text": [
            "Enter maximum capacity of jug1 and jug2\n",
            "4\n",
            "3\n",
            "Enter Goal\n",
            "2\n",
            "0\n",
            "[0, 0]\n",
            "[4, 0]\n",
            "[0, 3]\n",
            "[4, 3]\n",
            "[1, 3]\n",
            "[3, 0]\n",
            "[1, 0]\n",
            "[3, 3]\n",
            "[4, 2]\n",
            "[0, 2]\n",
            "[2, 0]\n"
          ]
        }
      ],
      "source": [
        "#WATER JUG PROBLEM\n",
        "visited=[]\n",
        "queue=[]\n",
        "operation=['fill_left','fill_right','empty_left','empty_right','trans_left','trans_right']\n",
        "\n",
        "queue.append('0')\n",
        "queue.append('0')\n",
        "\n",
        "print(\"Enter maximum capacity of jug1 and jug2\")\n",
        "X=int(input())\n",
        "Y=int(input())\n",
        "print(\"Enter Goal\")\n",
        "x=int(input())\n",
        "y=int(input())\n",
        "\n",
        "while(len(queue)!=0):\n",
        "    lcurr=int(queue.pop(0))\n",
        "    rcurr=int(queue.pop(0))\n",
        "    if[lcurr,rcurr] not in visited:\n",
        "        print([lcurr,rcurr])\n",
        "        visited.append([lcurr,rcurr])\n",
        "        if(lcurr==x and rcurr==y):\n",
        "            break\n",
        "        for option in operation:\n",
        "            if option=='fill_left':\n",
        "                temp_left=X\n",
        "                temp_right=rcurr\n",
        "            elif option=='fill_right':\n",
        "                temp_left=lcurr\n",
        "                temp_right=Y\n",
        "            elif option=='empty_left':\n",
        "                temp_left=0\n",
        "                temp_right=rcurr\n",
        "            elif option=='empty_right':\n",
        "                temp_left=lcurr\n",
        "                temp_right=0\n",
        "            elif option=='trans_left':\n",
        "                z=int(lcurr+rcurr)\n",
        "                if(z>X):\n",
        "                    temp_left=X\n",
        "                    temp_right=z-X\n",
        "                else:\n",
        "                    temp_left=z\n",
        "                    temp_right=0\n",
        "            elif option=='trans_right':\n",
        "                z=int(lcurr+rcurr)\n",
        "                if(int(z)>Y):\n",
        "                    temp_left=z-Y\n",
        "                    temp_right=Y\n",
        "                else:\n",
        "                    temp_left=z\n",
        "                    temp_right=0\n",
        "            queue.append(temp_left)\n",
        "            queue.append(temp_right)"
      ]
    },
    {
      "cell_type": "code",
      "source": [],
      "metadata": {
        "id": "IZRkiIs5-xrc"
      },
      "execution_count": null,
      "outputs": []
    }
  ]
}